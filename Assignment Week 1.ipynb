{
 "cells": [
  {
   "cell_type": "markdown",
   "id": "50c6667f",
   "metadata": {},
   "source": [
    "Q1. Create one variable containing following type of data:"
   ]
  },
  {
   "cell_type": "markdown",
   "id": "d1041592",
   "metadata": {},
   "source": [
    "(i) string"
   ]
  },
  {
   "cell_type": "code",
   "execution_count": 1,
   "id": "293e5467",
   "metadata": {},
   "outputs": [],
   "source": [
    "s = \"kunal\""
   ]
  },
  {
   "cell_type": "code",
   "execution_count": 2,
   "id": "d24b3dcb",
   "metadata": {},
   "outputs": [],
   "source": [
    "s"
   ]
  },
  {
   "cell_type": "markdown",
   "id": "1b7a2324",
   "metadata": {},
   "source": [
    "(ii) list"
   ]
  },
  {
   "cell_type": "code",
   "execution_count": 3,
   "id": "7738a817",
   "metadata": {},
   "outputs": [],
   "source": [
    "l = [2,3,4,5,6, \"kunal\", 3+7j, True, 34.56]"
   ]
  },
  {
   "cell_type": "code",
   "execution_count": 4,
   "id": "8ab555eb",
   "metadata": {},
   "outputs": [],
   "source": [
    "l"
   ]
  },
  {
   "cell_type": "markdown",
   "id": "abd215ce",
   "metadata": {},
   "source": [
    "(iii) float"
   ]
  },
  {
   "cell_type": "code",
   "execution_count": 5,
   "id": "5f1a73e3",
   "metadata": {},
   "outputs": [],
   "source": [
    "f = 45.67868"
   ]
  },
  {
   "cell_type": "code",
   "execution_count": 6,
   "id": "bbc1155b",
   "metadata": {},
   "outputs": [],
   "source": [
    "f"
   ]
  },
  {
   "cell_type": "markdown",
   "id": "b73c9e34",
   "metadata": {},
   "source": [
    "(iv) tuple"
   ]
  },
  {
   "cell_type": "code",
   "execution_count": 7,
   "id": "8e3a8bc6",
   "metadata": {},
   "outputs": [],
   "source": [
    "t = (10, 20, 30)"
   ]
  },
  {
   "cell_type": "code",
   "execution_count": 8,
   "id": "4ca6f33f",
   "metadata": {},
   "outputs": [],
   "source": [
    "t"
   ]
  },
  {
   "cell_type": "markdown",
   "id": "03cf9a46",
   "metadata": {},
   "source": [
    "Q2. Given are some following variables containing data:\n",
    "(i) var1 = ‘ ‘\n",
    "(ii) var2 = ‘[ DS , ML , Python]’\n",
    "(iii) var3 = [ ‘DS’ , ’ML’ , ‘Python’ ]\n",
    "(iv) var4 = 1.\n",
    "What will be the data type of the above given variable."
   ]
  },
  {
   "cell_type": "markdown",
   "id": "73464fec",
   "metadata": {},
   "source": [
    "(i) var1 = ‘ ‘"
   ]
  },
  {
   "cell_type": "code",
   "execution_count": 9,
   "id": "75645e55",
   "metadata": {},
   "outputs": [],
   "source": [
    "var1 = ' '"
   ]
  },
  {
   "cell_type": "code",
   "execution_count": 10,
   "id": "6c89dc41",
   "metadata": {},
   "outputs": [],
   "source": [
    "var1"
   ]
  },
  {
   "cell_type": "code",
   "execution_count": 11,
   "id": "cddd5b07",
   "metadata": {},
   "outputs": [],
   "source": [
    "type(var1)"
   ]
  },
  {
   "cell_type": "markdown",
   "id": "c51f1304",
   "metadata": {},
   "source": [
    "(ii) var2 = ‘[ DS , ML , Python]’"
   ]
  },
  {
   "cell_type": "code",
   "execution_count": 12,
   "id": "fbe87423",
   "metadata": {},
   "outputs": [],
   "source": [
    "var2 = '[ DS , ML , Python]'"
   ]
  },
  {
   "cell_type": "code",
   "execution_count": 13,
   "id": "1551ad4e",
   "metadata": {},
   "outputs": [],
   "source": [
    "var2"
   ]
  },
  {
   "cell_type": "code",
   "execution_count": 14,
   "id": "4c923d8e",
   "metadata": {},
   "outputs": [],
   "source": [
    "type(var2)"
   ]
  },
  {
   "cell_type": "markdown",
   "id": "37ca2c79",
   "metadata": {},
   "source": [
    "(iii) var3 = [ ‘DS’ , ’ML’ , ‘Python’ ]"
   ]
  },
  {
   "cell_type": "code",
   "execution_count": 15,
   "id": "902b1721",
   "metadata": {},
   "outputs": [],
   "source": [
    "var3 = [ 'DS' , 'ML' , 'Python' ]"
   ]
  },
  {
   "cell_type": "code",
   "execution_count": 16,
   "id": "71ecf07e",
   "metadata": {},
   "outputs": [],
   "source": [
    "var3"
   ]
  },
  {
   "cell_type": "code",
   "execution_count": 17,
   "id": "29035403",
   "metadata": {},
   "outputs": [],
   "source": [
    "type(var3)"
   ]
  },
  {
   "cell_type": "markdown",
   "id": "da3f4692",
   "metadata": {},
   "source": [
    "(iv) var4 = 1."
   ]
  },
  {
   "cell_type": "code",
   "execution_count": 18,
   "id": "82da5b84",
   "metadata": {},
   "outputs": [],
   "source": [
    "var4 = 1."
   ]
  },
  {
   "cell_type": "code",
   "execution_count": 19,
   "id": "723fbf0e",
   "metadata": {},
   "outputs": [],
   "source": [
    "var4"
   ]
  },
  {
   "cell_type": "code",
   "execution_count": 20,
   "id": "1acfc0c3",
   "metadata": {},
   "outputs": [],
   "source": [
    "type(var4)"
   ]
  },
  {
   "cell_type": "markdown",
   "id": "1b553516",
   "metadata": {},
   "source": [
    "Q3. Explain the use of the following operators using an example:"
   ]
  },
  {
   "cell_type": "markdown",
   "id": "32e4c15f",
   "metadata": {},
   "source": [
    "(i) / (division): The division operator performs division between two operands and returns the quotient as a float. Example:"
   ]
  },
  {
   "cell_type": "code",
   "execution_count": 21,
   "id": "310782cd",
   "metadata": {},
   "outputs": [],
   "source": [
    "div = 1/2"
   ]
  },
  {
   "cell_type": "code",
   "execution_count": 22,
   "id": "56a0aa55",
   "metadata": {},
   "outputs": [],
   "source": [
    "div"
   ]
  },
  {
   "cell_type": "markdown",
   "id": "74dde1b6",
   "metadata": {},
   "source": [
    "(ii) % (modulo): The modulo operator returns the remainder of the division between two operands. Example:"
   ]
  },
  {
   "cell_type": "code",
   "execution_count": 23,
   "id": "eb1344cd",
   "metadata": {},
   "outputs": [],
   "source": [
    "mod = 1%2"
   ]
  },
  {
   "cell_type": "code",
   "execution_count": 24,
   "id": "ff7d31b5",
   "metadata": {},
   "outputs": [],
   "source": [
    "mod"
   ]
  },
  {
   "cell_type": "markdown",
   "id": "bddc93a1",
   "metadata": {},
   "source": [
    "(iii) // (floor division): The floor division operator performs division between two operands and returns the quotient as an integer, rounded down to the nearest whole number. Example:"
   ]
  },
  {
   "cell_type": "code",
   "execution_count": 25,
   "id": "19f7c34a",
   "metadata": {},
   "outputs": [],
   "source": [
    "floor = 1//2"
   ]
  },
  {
   "cell_type": "code",
   "execution_count": 26,
   "id": "da7dd689",
   "metadata": {},
   "outputs": [],
   "source": [
    "floor"
   ]
  },
  {
   "cell_type": "markdown",
   "id": "ced2cf31",
   "metadata": {},
   "source": [
    "(iv) ** (exponentiation): The exponentiation operator raises the first operand to the power of the second operand. Example:"
   ]
  },
  {
   "cell_type": "code",
   "execution_count": 27,
   "id": "69306683",
   "metadata": {},
   "outputs": [],
   "source": [
    "expo = 3**2"
   ]
  },
  {
   "cell_type": "code",
   "execution_count": 28,
   "id": "00cf8c8c",
   "metadata": {},
   "outputs": [],
   "source": [
    "expo"
   ]
  },
  {
   "cell_type": "markdown",
   "id": "039b997a",
   "metadata": {},
   "source": [
    "Q4. Create a list of length 10 of your choice containing multiple types of data. Using for loop print the\n",
    "element and its data type."
   ]
  },
  {
   "cell_type": "code",
   "execution_count": 29,
   "id": "b393ef77",
   "metadata": {},
   "outputs": [],
   "source": [
    "l = [1, 2, \"kunal\", 3.0, True, \"pwskills\", [23.45, 4], 5, 11.0, False]\n",
    "for i in l:\n",
    "    print(i, type(i))"
   ]
  },
  {
   "cell_type": "markdown",
   "id": "a7adcf10",
   "metadata": {},
   "source": [
    "Q5. Using a while loop, verify if the number A is purely divisible by number B and if so then how many\n",
    "times it can be divisible."
   ]
  },
  {
   "cell_type": "code",
   "execution_count": 30,
   "id": "a757595e",
   "metadata": {},
   "outputs": [],
   "source": [
    "A = 24\n",
    "B = 4\n",
    "count = 0\n",
    "\n",
    "while A % B == 0:\n",
    "    A = A / B\n",
    "    count += 1\n",
    "\n",
    "print(\"A is divisible by B\", count, \"times.\")"
   ]
  },
  {
   "cell_type": "markdown",
   "id": "f06d6962",
   "metadata": {},
   "source": [
    "Q6. Create a list containing 25 int type data. Using for loop and if-else condition print if the element is\n",
    "divisible by 3 or not."
   ]
  },
  {
   "cell_type": "code",
   "execution_count": 31,
   "id": "5680120e",
   "metadata": {},
   "outputs": [],
   "source": [
    "my_list = list(range(1,26))\n",
    "for i in my_list:\n",
    "    if i % 3 == 0:\n",
    "        print(i, \"is divisible by 3\")\n",
    "    else:\n",
    "        print(i, \"is not divisible by 3\")"
   ]
  },
  {
   "cell_type": "markdown",
   "id": "56a9c312",
   "metadata": {},
   "source": [
    "Q7. What do you understand about mutable and immutable data types? Give examples for both showing\n",
    "this property."
   ]
  },
  {
   "cell_type": "markdown",
   "id": "bf3320c7",
   "metadata": {},
   "source": [
    "Mutable: Mutable data types are those whose values can be changed after they are created. Examples include lists, dictionaries, and sets. When you modify a mutable object, it retains the same identity (memory address), but its internal state can be altered."
   ]
  },
  {
   "cell_type": "code",
   "execution_count": 32,
   "id": "79e7526a",
   "metadata": {},
   "outputs": [],
   "source": [
    "# Example of mutable data type (list)\n",
    "l = [1, 2, 3]"
   ]
  },
  {
   "cell_type": "code",
   "execution_count": 33,
   "id": "8b244fc7",
   "metadata": {},
   "outputs": [],
   "source": [
    "l"
   ]
  },
  {
   "cell_type": "code",
   "execution_count": 34,
   "id": "b04fa016",
   "metadata": {},
   "outputs": [],
   "source": [
    "l[1] = 300"
   ]
  },
  {
   "cell_type": "code",
   "execution_count": 35,
   "id": "db5600d8",
   "metadata": {},
   "outputs": [],
   "source": [
    "l"
   ]
  },
  {
   "cell_type": "markdown",
   "id": "c50def0b",
   "metadata": {},
   "source": [
    "Immutable: Immutable data types, on the other hand, cannot be changed once they are created. Examples include strings, tuples, and numbers (integers, floats). When you perform an operation that seems to modify an immutable object, a new object is created with the updated value, while the original object remains unchanged."
   ]
  },
  {
   "cell_type": "code",
   "execution_count": 36,
   "id": "d2a5ec57",
   "metadata": {},
   "outputs": [],
   "source": [
    "# Example of immutable data type (string)\n",
    "k = \"kunal\""
   ]
  },
  {
   "cell_type": "code",
   "execution_count": 37,
   "id": "5df342d9",
   "metadata": {},
   "outputs": [],
   "source": [
    "k"
   ]
  },
  {
   "cell_type": "code",
   "execution_count": 38,
   "id": "814a3c4a",
   "metadata": {},
   "outputs": [],
   "source": [
    "k[1] = 'a'"
   ]
  }
 ],
 "metadata": {
  "kernelspec": {
   "display_name": "Python 3 (ipykernel)",
   "language": "python",
   "name": "python3"
  },
  "language_info": {
   "codemirror_mode": {
    "name": "ipython",
    "version": 3
   },
   "file_extension": ".py",
   "mimetype": "text/x-python",
   "name": "python",
   "nbconvert_exporter": "python",
   "pygments_lexer": "ipython3",
   "version": "3.10.0"
  }
 },
 "nbformat": 4,
 "nbformat_minor": 5
}
